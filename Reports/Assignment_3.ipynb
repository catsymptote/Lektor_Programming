{
 "cells": [
  {
   "cell_type": "markdown",
   "metadata": {},
   "source": [
    "# Assignment 3\n",
    "Realfagslektormaster, programing course\n",
    "\n",
    "Author: Paul Knutson"
   ]
  },
  {
   "cell_type": "markdown",
   "metadata": {},
   "source": [
    "## Error approximations\n",
    "> Since errors approximations are not asked for in all the tasks, these are not included generally.\n",
    "\n",
    "When performing estimations using numerical methods, error approxmations can be needed to evaluate how many iterations are neccessary, how fast different methods converge towards the correct value (or indeed if they at all do).\n",
    "\n",
    "Absolute errors are the absolute difference beteen the estimate and the correct answer.\n",
    "\n",
    "\n",
    "\n",
    "If you get a question, where the answer is $10000$, and you guess $9000$, it is $1000$ off, and $90%$ or $0.9$ of the right answer. In this example, $1000$ is the absolute error and $1 - 0.9$ is the relative error. Depending on the context, either of these can be interesting.\n",
    "\n",
    "The absolute error is found by:\n",
    "$$ \\epsilon_a = |x - \\widetilde{x}| $$\n",
    "\n",
    "The relative error can be found like this:\n",
    "$$ \\epsilon_r = \\frac{\\epsilon_a}{|x|} = |\\frac{x - \\widetilde{x}}{x}| $$\n",
    "\n",
    "Where $\\widetilde{x}$ is the approximation of $x$.\n",
    "\n",
    "### Error example\n",
    "You are asked to estimate the amount of citizens in a town of $10000$.\n",
    "You guess $9000$.\n",
    "\n",
    "The absolute error is\n",
    "$$ \\epsilon_a = |x - \\widetilde{x}| = |10000 - 9000| = 1000 $$\n",
    "\n",
    "\n",
    "While the relative error is\n",
    "$$ \\epsilon_r = \\frac{\\epsilon_a}{|x|} = \\frac{1000}{|10000|} = \\frac{1000}{10000} = \\frac{1}{10} = 0.1 $$\n",
    "\n",
    "And for good measures, the percent error is\n",
    "$$ \\epsilon_p = 100 \\% \\times \\epsilon_r = 100 \\% \\times 0.1 = 10 \\% $$"
   ]
  },
  {
   "cell_type": "markdown",
   "metadata": {},
   "source": [
    "## 1a\n",
    "Take advantage of Newton's method for finding $f(x) = 0$ for $(i)$, $(ii)$ and $(iii)$.\n",
    "\n",
    "Newtons method uses the following iterative process to better an estimation of the $x$ value of the $x$ intersection.\n",
    "\n",
    "$$ x_{n+1} = x_n - \\frac{f(x_n)}{f'(x_n)} $$\n",
    "\n",
    "The examples has been ran through 100 iterations, but much less will usually suffice quite well, depending on the required accuracy."
   ]
  },
  {
   "cell_type": "code",
   "execution_count": 31,
   "metadata": {},
   "outputs": [],
   "source": [
    "def newtons_method(f, df, x):\n",
    "    for i in range(100):\n",
    "        x = x - f(x) / df(x)\n",
    "    return x"
   ]
  },
  {
   "cell_type": "markdown",
   "metadata": {},
   "source": [
    "### $(i)$\n",
    "$$ f(x) = x^4 -5x^2 - 2x + 3 $$"
   ]
  },
  {
   "cell_type": "code",
   "execution_count": 32,
   "metadata": {},
   "outputs": [
    {
     "name": "stdout",
     "output_type": "stream",
     "text": [
      "(x, y) : (-1.6180339887498953, 0.0)\n"
     ]
    }
   ],
   "source": [
    "def f(x):\n",
    "    return x**4 - 5*x**2 - 2*x + 3\n",
    "\n",
    "def df(x):\n",
    "    return 4*x**3 - 10*x - 2\n",
    "\n",
    "x = newtons_method(f, df, 0)\n",
    "print(\"(x, y) : (\" + str(x) + \", \" + str(f(x)) + \")\")"
   ]
  },
  {
   "cell_type": "markdown",
   "metadata": {},
   "source": [
    "### $(ii)$\n",
    "$$ f(x) = ln(x^3 + 1) - \\frac{-x^2}{2} $$"
   ]
  },
  {
   "cell_type": "code",
   "execution_count": 33,
   "metadata": {},
   "outputs": [
    {
     "name": "stdout",
     "output_type": "stream",
     "text": [
      "(x, y) : (0.5379893080326862, 0.0)\n"
     ]
    }
   ],
   "source": [
    "import numpy as np\n",
    "\n",
    "def f(x):\n",
    "    return np.log(x**3 + 1) - x**2/2\n",
    "\n",
    "def df(x):\n",
    "    return x*(3*x/(x**3 + 1) - 1)\n",
    "\n",
    "x = newtons_method(f, df, 1)\n",
    "print(\"(x, y) : (\" + str(x) + \", \" + str(f(x)) + \")\")"
   ]
  },
  {
   "cell_type": "markdown",
   "metadata": {},
   "source": [
    "### $(iii)$\n",
    "$$ f(x) = cos \\bigg( \\frac{e^{sin(x)}}{x^3 + 1} - x^2 \\bigg) -\\frac{1}{2}, -1 < x \\leq \\pi $$\n"
   ]
  },
  {
   "cell_type": "code",
   "execution_count": 34,
   "metadata": {},
   "outputs": [
    {
     "name": "stdout",
     "output_type": "stream",
     "text": [
      "(x, y) : (1.098905135152622, -0.0)\n"
     ]
    }
   ],
   "source": [
    "import numpy as np\n",
    "\n",
    "def f(x):\n",
    "    return np.cos(np.e**np.sin(x)/(x**3 + 1)) - 1/2\n",
    "\n",
    "def df(x):\n",
    "    return -(np.e**np.sin(x)*(-3*x**2 + (1 + x**3)*np.cos(x))*np.sin(np.e**np.sin(x)/(1 + x**3)))/(1 + x**3)**2\n",
    "\n",
    "x = newtons_method(f, df, 1)\n",
    "print(\"(x, y) : (\" + str(x) + \", \" + str(round(f(x), 4)) + \")\")\n",
    "\n",
    "##  Med x=-1 får du problemer grunnet at både f og df\n",
    "##  har nevnere x^3 + 1. Hvis x=-1 får du\n",
    "##  (-1)^3 + 1 = -1 + 1 = 0. Deling på 0 er ikke definert,\n",
    "##  og f og df er derfor ikke definert når x=-1."
   ]
  },
  {
   "cell_type": "markdown",
   "metadata": {},
   "source": [
    "$(ii)$ and $(iii)$ are both problematic at $x = -1$ as $g(x) = x^3 + 1$ becomes $0$. \n",
    "$$ g(-1) = (-1)^3 + 1 = -1 + 1  = 0 $$\n",
    "Neither $\\frac{x}{y}$ nor $ln(y)$ are well defined when $y = 0$."
   ]
  },
  {
   "cell_type": "markdown",
   "metadata": {},
   "source": [
    "## 1b\n",
    "Stationary points are points where the lines are horizontal. I.e. $f'(x) = 0$.\n",
    "We know how to find a functions $x$ intersections, as we have already done it in 1a.\n",
    "If we set $f'(x) = g(x)$, all we need to do is find $g'(x) = f''(x)$ (the function's double derivatives), and run it through the same function."
   ]
  },
  {
   "cell_type": "markdown",
   "metadata": {},
   "source": [
    "### $(i)$\n",
    "$$ f(x) = ln(x^3 + 1) - \\frac{-x^2}{2} $$\n",
    "\n",
    "$$ g(x) = f'(x) = 4x^3 - 10x - 2 $$\n",
    "\n",
    "$$ g'(x) = f''(x) = 12x^2 - 10 $$"
   ]
  },
  {
   "cell_type": "code",
   "execution_count": 35,
   "metadata": {},
   "outputs": [
    {
     "name": "stdout",
     "output_type": "stream",
     "text": [
      "-0.20336421379690506\n"
     ]
    }
   ],
   "source": [
    "def g(x):\n",
    "    return 4*x**3 - 10*x - 2\n",
    "\n",
    "\n",
    "def dg(x):\n",
    "    return 12*x**2 - 10\n",
    "\n",
    "\n",
    "print(newtons_method(g, dg, 0))"
   ]
  },
  {
   "cell_type": "markdown",
   "metadata": {},
   "source": [
    "### $(ii)$\n",
    "$$ f(x) = ln(x^3 + 1) - \\frac{-x^2}{2} $$\n",
    "\n",
    "$$ g(x) = f'(x) = x \\bigg( \\frac{3x}{x^3 + 1} - 1 \\bigg) $$\n",
    "\n",
    "$$ g'(x) = f''(x) = \\frac{x^6 + 3x^4 + 2x^3 - 6x + 1}{(x^3 + 1)^2} $$"
   ]
  },
  {
   "cell_type": "code",
   "execution_count": 37,
   "metadata": {},
   "outputs": [
    {
     "name": "stdout",
     "output_type": "stream",
     "text": [
      "0.0\n"
     ]
    }
   ],
   "source": [
    "def g(x):\n",
    "    return x*( (3*x)/(x**3 + 1) -1)\n",
    "\n",
    "\n",
    "def dg(x):\n",
    "    return (x**6 + 3*x**4 + 2*x**3 - 6*x + 1) / (x**3 + 1)**2\n",
    "\n",
    "\n",
    "print(newtons_method(g, dg, 0))"
   ]
  },
  {
   "cell_type": "markdown",
   "metadata": {},
   "source": [
    "### $(iii)$\n",
    "$$ f(x) = cos \\bigg( \\frac{e^{sin(x)}}{x^3 + 1} - x^2 \\bigg) -\\frac{1}{2}, -1 < x \\leq \\pi $$\n",
    "\n",
    "$g(x)$ and $g'(x)$ will be found using another method, as the differentiation would take a long time and ain't nobody got time for that."
   ]
  },
  {
   "cell_type": "code",
   "execution_count": 38,
   "metadata": {},
   "outputs": [
    {
     "name": "stdout",
     "output_type": "stream",
     "text": [
      "Solution\n"
     ]
    }
   ],
   "source": [
    "print(\"Solution\")"
   ]
  },
  {
   "cell_type": "markdown",
   "metadata": {},
   "source": [
    "To find all points (both $x$ intersections and stationary points), run the functions systematically with all values of $x$ (or $x_0$.\n",
    "Then make a list of uniques (after rounding off)."
   ]
  },
  {
   "cell_type": "code",
   "execution_count": 45,
   "metadata": {},
   "outputs": [
    {
     "name": "stdout",
     "output_type": "stream",
     "text": [
      "Once deleted, variables cannot be recovered. Proceed (y/[n])? y\n"
     ]
    }
   ],
   "source": [
    "%reset"
   ]
  },
  {
   "cell_type": "markdown",
   "metadata": {},
   "source": [
    "## 2a\n",
    "The continued fraction $\\frac{1}{2 + \\frac{3}{4 + \\frac{5}{6}}}$ can be shortened to $\\frac{29}{76}$. Proof below.\n",
    "\n",
    "$$ \\frac{1}{2 + \\frac{3}{4 + \\frac{5}{6}}}\n",
    "=\n",
    "\\frac{1}{2 + \\frac{3}{\\frac{4 \\times 6}{1 \\times 6} + \\frac{5}{6}}}\n",
    "=\n",
    "\\frac{1}{2 + \\frac{3}{\\frac{24}{6} + \\frac{5}{6}}}\n",
    "=\n",
    "\\frac{1}{2 + \\frac{3}{\\frac{24 + 5}{6}}}\n",
    "=\n",
    "\\frac{1}{2 + \\frac{3}{\\frac{29}{6}}}\n",
    "=\n",
    "\\frac{1}{2 + \\frac{3 \\times 6}{29}}\n",
    "=\n",
    "\\frac{1}{2 + \\frac{18}{29}}\n",
    "=\n",
    "\\frac{1}{\\frac{2 \\times 29}{1 \\times 29} + \\frac{18}{29}}\n",
    "=\n",
    "\\frac{1}{\\frac{58}{29} + \\frac{18}{29}}\n",
    "=\n",
    "\\frac{1}{\\frac{58 + 18}{29}}\n",
    "=\n",
    "\\frac{1}{\\frac{76}{29}}\n",
    "=\n",
    "\\frac{29}{76}\n",
    "\\simeq\n",
    "0.38157894736 $$"
   ]
  },
  {
   "cell_type": "code",
   "execution_count": 93,
   "metadata": {},
   "outputs": [
    {
     "name": "stdout",
     "output_type": "stream",
     "text": [
      "0.3815789473684211\n"
     ]
    }
   ],
   "source": [
    "print(1/(2 + 3/(4 + 5/6)))"
   ]
  },
  {
   "cell_type": "code",
   "execution_count": 94,
   "metadata": {},
   "outputs": [
    {
     "name": "stdout",
     "output_type": "stream",
     "text": [
      "0.3815789473684211\n"
     ]
    }
   ],
   "source": [
    "a = 5/6\n",
    "b = 4 + a\n",
    "c = 3/b\n",
    "d = 2 + c\n",
    "e = 1/d\n",
    "\n",
    "print(e)"
   ]
  },
  {
   "cell_type": "code",
   "execution_count": 95,
   "metadata": {},
   "outputs": [
    {
     "name": "stdout",
     "output_type": "stream",
     "text": [
      "0.3815789473684211\n"
     ]
    }
   ],
   "source": [
    "def recursive_fraction(max_val, i=0):\n",
    "    if i >= max_val:\n",
    "        return max_val\n",
    "    \n",
    "    return i + (i+1)/recursive_fraction(max_val, i+2)\n",
    "\n",
    "\n",
    "print(recursive_fraction(6))"
   ]
  },
  {
   "cell_type": "code",
   "execution_count": 104,
   "metadata": {},
   "outputs": [],
   "source": [
    "import math\n",
    "\n",
    "def continued_fraction(nums, i=0):\n",
    "    if i >= len(nums) -1:\n",
    "        return 1/nums[i]\n",
    "    \n",
    "    return nums[i] + 1/continued_fraction(nums, i+1)"
   ]
  },
  {
   "cell_type": "markdown",
   "metadata": {},
   "source": [
    "## 2d\n",
    "$$ \\sqrt{2} \\simeq [1,2,2,2,2,2,2,2, ...] $$"
   ]
  },
  {
   "cell_type": "code",
   "execution_count": 105,
   "metadata": {},
   "outputs": [
    {
     "name": "stdout",
     "output_type": "stream",
     "text": [
      "x:\t 1.4142135623730951\n",
      "x_est:\t 1.4142091152815013\n",
      "e_r:\t 3.1445785109163182e-06\n"
     ]
    }
   ],
   "source": [
    "print(\"x:\\t\", math.sqrt(2))\n",
    "print(\"x_est:\\t\", continued_fraction([1,2,2,2,2,2,2,2,2]))\n",
    "print(\"e_r:\\t\", abs(1 - math.sqrt(2)/continued_fraction([1,2,2,2,2,2,2,2,2])))"
   ]
  },
  {
   "cell_type": "markdown",
   "metadata": {},
   "source": [
    "## 2e\n",
    "$$ \\sqrt{3} \\simeq [1,1,2,1,2,1,2,1,2,1, ...] $$"
   ]
  },
  {
   "cell_type": "code",
   "execution_count": 98,
   "metadata": {},
   "outputs": [
    {
     "name": "stdout",
     "output_type": "stream",
     "text": [
      "x:\t 1.7320508075688772\n",
      "x_est:\t 1.7318840579710146\n",
      "e_r:\t 9.628219458179821e-05\n"
     ]
    }
   ],
   "source": [
    "print(\"x:\\t\", math.sqrt(3))\n",
    "print(\"x_est:\\t\", continued_fraction([1,1,2,1,2,1,2,1,2 ]))\n",
    "print(\"e_r:\\t\", abs(1 - math.sqrt(3)/continued_fraction([1,1,2,1,2,1,2,1,2])))"
   ]
  },
  {
   "cell_type": "markdown",
   "metadata": {},
   "source": [
    "## 2f\n",
    "$$ \\pi\\simeq [3,7,15,1,292,1,1,1,2, ...] $$"
   ]
  },
  {
   "cell_type": "code",
   "execution_count": 99,
   "metadata": {},
   "outputs": [
    {
     "name": "stdout",
     "output_type": "stream",
     "text": [
      "x:\t 3.141592653589793\n",
      "x_est:\t 3.141592653532386\n",
      "e_r:\t 1.827316076230545e-11\n"
     ]
    }
   ],
   "source": [
    "print(\"x:\\t\", math.pi)\n",
    "print(\"x_est:\\t\", continued_fraction([3,7,15,1,292,1,1,1,2])) #.. ,1,3,1]))\n",
    "print(\"e_r:\\t\", abs(1 - math.pi/continued_fraction([3,7,15,1,292,1,1,1,2])))"
   ]
  },
  {
   "cell_type": "markdown",
   "metadata": {},
   "source": [
    "## 2x (bonus)\n",
    "$$ e \\simeq [2,1,2,1,1,4,1,1,6,1,1,8, ...] $$"
   ]
  },
  {
   "cell_type": "code",
   "execution_count": 100,
   "metadata": {},
   "outputs": [
    {
     "name": "stdout",
     "output_type": "stream",
     "text": [
      "x:\t 2.718281828459045\n",
      "x_est:\t 2.718283229343921\n",
      "e_r:\t 5.153564798243693e-07\n"
     ]
    }
   ],
   "source": [
    "print(\"x:\\t\", math.e)\n",
    "print(\"x_est:\\t\", continued_fraction([2,1,2,1,1,4,1,1,6,1,1,8]))\n",
    "print(\"e_r:\\t\", abs(1 - math.e/continued_fraction([2,1,2,1,1,4,1,1,6,1,1,8])))"
   ]
  },
  {
   "cell_type": "markdown",
   "metadata": {},
   "source": [
    "$$ \\phi\\simeq [1,1,1,1,1,1,1,1,1,1,1, ...] $$"
   ]
  },
  {
   "cell_type": "code",
   "execution_count": 101,
   "metadata": {},
   "outputs": [
    {
     "name": "stdout",
     "output_type": "stream",
     "text": [
      "x:\t 1.618033988749895\n",
      "x_est:\t 1.6180371352785146\n",
      "e_r:\t 1.9446578518600433e-06\n"
     ]
    }
   ],
   "source": [
    "golden_ratio = (1 + math.sqrt(5))/2\n",
    "print(\"x:\\t\", golden_ratio)\n",
    "print(\"x_est:\\t\", continued_fraction([1,1,1,1,1,1,1,1,1,1,1,1,1,1]))\n",
    "print(\"e_r:\\t\", abs(1 - golden_ratio/continued_fraction([1,1,1,1,1,1,1,1,1,1,1,1,1,1])))"
   ]
  },
  {
   "cell_type": "code",
   "execution_count": 106,
   "metadata": {},
   "outputs": [
    {
     "name": "stdout",
     "output_type": "stream",
     "text": [
      "Once deleted, variables cannot be recovered. Proceed (y/[n])? y\n"
     ]
    }
   ],
   "source": [
    "%reset"
   ]
  },
  {
   "cell_type": "markdown",
   "metadata": {},
   "source": [
    "## 2g\n",
    "What?"
   ]
  },
  {
   "cell_type": "markdown",
   "metadata": {},
   "source": [
    "## 3a"
   ]
  },
  {
   "cell_type": "code",
   "execution_count": 109,
   "metadata": {},
   "outputs": [
    {
     "data": {
      "image/png": "[encoded data removed]",
      "text/plain": [
       "<Figure size 432x288 with 1 Axes>"
      ]
     },
     "metadata": {
      "needs_background": "light"
     },
     "output_type": "display_data"
    }
   ],
   "source": [
    "a = 1\n",
    "b = -1\n",
    "c = 1\n",
    "d = 0\n",
    "\n",
    "def F(point):\n",
    "    x = point[0]\n",
    "    y = point[1]\n",
    "    \n",
    "    xn = a*x + b*y\n",
    "    yn = c*x + d*y\n",
    "    \n",
    "    return [xn, yn]\n",
    "\n",
    "def F2(point):\n",
    "    x = point[0]\n",
    "    y = point[1]\n",
    "    \n",
    "    xn = a*x + b*y\n",
    "    yn = c*x + d*y\n",
    "    \n",
    "    return [xn, yn]\n",
    "\n",
    "\n",
    "X = [1]\n",
    "Y = [1]\n",
    "\n",
    "\n",
    "for i in range(100):\n",
    "    point = F2([X[i], Y[i]])\n",
    "    #points.append(F(points[i]))\n",
    "    X.append(point[0])\n",
    "    Y.append(point[1])\n",
    "\n",
    "\n",
    "# Plotting\n",
    "import matplotlib.pyplot as plt\n",
    "\n",
    "plt.grid()\n",
    "plt.plot(X, Y)\n",
    "plt.show()"
   ]
  },
  {
   "cell_type": "markdown",
   "metadata": {},
   "source": [
    "## 3b\n",
    "$d \\in [-0.5, 0.5]$"
   ]
  },
  {
   "cell_type": "markdown",
   "metadata": {},
   "source": [
    "## 3c"
   ]
  },
  {
   "cell_type": "markdown",
   "metadata": {},
   "source": [
    "## 3d"
   ]
  },
  {
   "cell_type": "code",
   "execution_count": 108,
   "metadata": {},
   "outputs": [
    {
     "data": {
      "image/png": "[encoded data removed]",
      "text/plain": [
       "<Figure size 432x288 with 1 Axes>"
      ]
     },
     "metadata": {
      "needs_background": "light"
     },
     "output_type": "display_data"
    }
   ],
   "source": [
    "a = 1\n",
    "b = -1\n",
    "c = 1\n",
    "d = 0\n",
    "e = -0.1\n",
    "f = 0.1\n",
    "\n",
    "def F(point):\n",
    "    x = point[0]\n",
    "    y = point[1]\n",
    "    \n",
    "    xn = a*x + b*y\n",
    "    yn = c*x + d*y\n",
    "    \n",
    "    return [xn, yn]\n",
    "\n",
    "def F2(point):\n",
    "    x = point[0]\n",
    "    y = point[1]\n",
    "    \n",
    "    xn = a*x + b*y\n",
    "    yn = c*x + d*y + e*x**2 + f*y**2\n",
    "    \n",
    "    return [xn, yn]\n",
    "\n",
    "\n",
    "X = [1]\n",
    "Y = [1]\n",
    "\n",
    "\n",
    "for i in range(100):\n",
    "    point = F2([X[i], Y[i]])\n",
    "    #points.append(F(points[i]))\n",
    "    X.append(point[0])\n",
    "    Y.append(point[1])\n",
    "\n",
    "\n",
    "# Plotting\n",
    "import matplotlib.pyplot as plt\n",
    "\n",
    "plt.grid()\n",
    "plt.plot(X, Y)\n",
    "plt.show()"
   ]
  },
  {
   "cell_type": "code",
   "execution_count": null,
   "metadata": {},
   "outputs": [],
   "source": []
  }
 ],
 "metadata": {
  "kernelspec": {
   "display_name": "Python 3",
   "language": "python",
   "name": "python3"
  },
  "language_info": {
   "codemirror_mode": {
    "name": "ipython",
    "version": 3
   },
   "file_extension": ".py",
   "mimetype": "text/x-python",
   "name": "python",
   "nbconvert_exporter": "python",
   "pygments_lexer": "ipython3",
   "version": "3.6.8"
  }
 },
 "nbformat": 4,
 "nbformat_minor": 2
}
