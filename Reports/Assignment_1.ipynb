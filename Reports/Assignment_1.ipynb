{
 "cells": [
  {
   "cell_type": "markdown",
   "metadata": {},
   "source": [
    "# Assignment 1\n",
    "Realfagslektormaster, programing course\n",
    "\n",
    "Author: Paul Knutson"
   ]
  },
  {
   "cell_type": "markdown",
   "metadata": {},
   "source": [
    "The assignment here is the make an encryption algorithm, based on a Caesar cipher.\n",
    "This implementation uses and LSO function (Left Shift Operation) for encryption, and an RSO (Right Shift Operation, a reversed LSO) for decryption. The shift size can be decided by the user, but the default (which is used below) is 1.\n",
    "LSO turns a into b, b into c, etc. If the shift is greater, a may turn into c, b to d, etc.\n",
    "At the end, the decryption function uses .title() in a simple attempt to make the decrypted text prettier. Had the symbol list included both uppercase and lowercase, this would %not be necessary."
   ]
  },
  {
   "cell_type": "code",
   "execution_count": 1,
   "metadata": {},
   "outputs": [
    {
     "name": "stdout",
     "output_type": "stream",
     "text": [
      "Kryptert:\t ifmmp-xpsme?\n",
      "Dekryptert:\t Hello World!\n"
     ]
    }
   ],
   "source": [
    "# List of all acceptable symbols.\n",
    "symbols = list(\"ABCDEFGHIJKLMNOPQRSTUVWXYZÆØÅ0123456789 -,.!?\".lower())\n",
    "\n",
    "\n",
    "def LSO(msg, shift=1):\n",
    "    \"\"\"Left Shift Operation.\"\"\"\n",
    "\n",
    "    # Make the string a list of lower case chars.\n",
    "    msg = list(msg.lower())\n",
    "\n",
    "    # For each letter in message.\n",
    "    for i in range(len(msg)):\n",
    "\n",
    "        # Get index of msg-letter in symbols.\n",
    "        index = symbols.index(msg[i])\n",
    "        \n",
    "        # If not found, return.\n",
    "        if index == -1:\n",
    "            return\n",
    "        \n",
    "        # LSO swap. Modulate to stay within bounds.\n",
    "        msg[i] = symbols[(index + shift) % len(symbols)]\n",
    "    return \"\".join(msg)\n",
    "\n",
    "\n",
    "def RSO(msg, shift=1):\n",
    "    \"\"\"Right Shift Operation (opposite of LSO).\"\"\"\n",
    "    return LSO(msg, len(symbols) - shift)\n",
    "\n",
    "\n",
    "text = \"Hello World!\"\n",
    "print(\"Kryptert:\\t\", LSO(text))\n",
    "print(\"Dekryptert:\\t\", RSO(LSO(text)).title())"
   ]
  }
 ],
 "metadata": {
  "kernelspec": {
   "display_name": "Python 3",
   "language": "python",
   "name": "python3"
  },
  "language_info": {
   "codemirror_mode": {
    "name": "ipython",
    "version": 3
   },
   "file_extension": ".py",
   "mimetype": "text/x-python",
   "name": "python",
   "nbconvert_exporter": "python",
   "pygments_lexer": "ipython3",
   "version": "3.6.8"
  }
 },
 "nbformat": 4,
 "nbformat_minor": 2
}
