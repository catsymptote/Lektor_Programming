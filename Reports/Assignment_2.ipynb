{
 "cells": [
  {
   "cell_type": "markdown",
   "metadata": {},
   "source": [
    "# Assignment 2\n",
    "Realfagslektormaster, programing course\n",
    "\n",
    "Author: Paul Knutson"
   ]
  },
  {
   "cell_type": "markdown",
   "metadata": {},
   "source": [
    "## 1a\n",
    "$$ P(x) = x^3 - 2x^2 + x - 2 $$\n",
    "\n",
    "The user can change the x (input value). In this case, $P(3) = 10$."
   ]
  },
  {
   "cell_type": "code",
   "execution_count": 19,
   "metadata": {},
   "outputs": [
    {
     "name": "stdout",
     "output_type": "stream",
     "text": [
      "10\n"
     ]
    }
   ],
   "source": [
    "def P(x):\n",
    "    return x**3 - 2*x**2 + x - 2\n",
    "\n",
    "\n",
    "print(P(3))"
   ]
  },
  {
   "cell_type": "markdown",
   "metadata": {},
   "source": [
    "## 1b\n",
    "Here, $P(p, x)$ is generic polynomial function, described by the coefficient list $p$, giving\n",
    "\n",
    "$$ P(p, x) = p_0 x^0 + p_1 x^1 + p_2 x^2 + ... + p_n x^n $$\n",
    "\n",
    "where $n$ is the size of the coefficient list. In the code, $p$ is reversed (i.e. the index of $p$ is actually going from $n$ to $0$). The example function is the same as described in 1 a."
   ]
  },
  {
   "cell_type": "code",
   "execution_count": 20,
   "metadata": {},
   "outputs": [
    {
     "name": "stdout",
     "output_type": "stream",
     "text": [
      "10\n"
     ]
    }
   ],
   "source": [
    "# Vector describing/defining the polynomial function.\n",
    "p = [-2, 1, -2, 1]\n",
    "\n",
    "\n",
    "# Function of x (scalar) and p (vector)\n",
    "def P(p, x):\n",
    "    y = 0\n",
    "    for i in range(len(p)):\n",
    "        y += p[i] * x**i\n",
    "    return y\n",
    "\n",
    "\n",
    "print(P(p, 3))"
   ]
  },
  {
   "cell_type": "markdown",
   "metadata": {},
   "source": [
    "## 1c\n",
    "Here, $u$ is a list of $x$-values as used in the previous task. The results from $P(x)$, or in this case, $P(u_i)$ is stored and plotted."
   ]
  },
  {
   "cell_type": "code",
   "execution_count": 21,
   "metadata": {},
   "outputs": [
    {
     "data": {
      "image/png": "[encoded data removed]",
      "text/plain": [
       "<Figure size 432x288 with 1 Axes>"
      ]
     },
     "metadata": {
      "needs_background": "light"
     },
     "output_type": "display_data"
    }
   ],
   "source": [
    "# For maths and plotting\n",
    "import matplotlib.pyplot as plt\n",
    "import numpy as np\n",
    "\n",
    "# Vector describing/defining the polynomial function.\n",
    "p = [-2, 1, -2, 1]\n",
    "\n",
    "\n",
    "# Function of x (scalar) and p (vector)\n",
    "def P(p, x):\n",
    "    y = 0\n",
    "    for i in range(len(p)):\n",
    "        y += p[i] * x**i\n",
    "    return y\n",
    "\n",
    "\n",
    "def P_vect(u):\n",
    "    v = [0]*len(u)\n",
    "    for i in range(len(u)):\n",
    "        v[i] = P(p, u[i])\n",
    "    return v\n",
    "\n",
    "\n",
    "u = np.linspace(-10, 10, 101)\n",
    "y_values = P_vect(u)\n",
    "x_values = np.linspace(0, len(y_values) -1, len(y_values))\n",
    "\n",
    "# Plotting\n",
    "#fig = plt.figure()\n",
    "plt.grid(True)\n",
    "plt.plot(x_values, y_values)\n",
    "plt.show()"
   ]
  },
  {
   "cell_type": "markdown",
   "metadata": {},
   "source": [
    "## 1d\n",
    "This one is similar to c, but where $P$ is used recursive instead of using a list $u$. As can be seen below, the values become huge extremely quickly."
   ]
  },
  {
   "cell_type": "code",
   "execution_count": 22,
   "metadata": {},
   "outputs": [
    {
     "name": "stdout",
     "output_type": "stream",
     "text": [
      "[3, 10, 808, 526209190, 145705278066681752856855988]\n"
     ]
    }
   ],
   "source": [
    "# Vector describing/defining the polynomial function.\n",
    "p = [-2, 1, -2, 1]\n",
    "\n",
    "\n",
    "# Function of x (scalar) and p (vector)\n",
    "def P(x, n):\n",
    "    y = 0\n",
    "    for i in range(len(p)):\n",
    "        y += p[i] * x**i\n",
    "    if n == 0:\n",
    "        return x\n",
    "    elif n == 1:\n",
    "        return y\n",
    "    else:\n",
    "        return P(y, n-1)\n",
    "\n",
    "\n",
    "def P_rec(x, n):\n",
    "    result = [0]*n\n",
    "    for i in range(n):\n",
    "        result[i] = P(x, i)\n",
    "    return result\n",
    "\n",
    "\n",
    "a = 3   # Input number\n",
    "n = 5   # Vector size/factorial \"loops\".\n",
    "print(P_rec(a, n))"
   ]
  },
  {
   "cell_type": "markdown",
   "metadata": {},
   "source": [
    "## 1e\n",
    "This is the same as 1d, but with an input vector of size $n$, similar to c. This return an $n \\times n$ matrix of values."
   ]
  },
  {
   "cell_type": "code",
   "execution_count": 23,
   "metadata": {},
   "outputs": [
    {
     "name": "stdout",
     "output_type": "stream",
     "text": [
      "[[0, -2, -20, -8822, -686751492440], [1, -2, -20, -8822, -686751492440], [2, 0, -2, -20, -8822], [3, 10, 808, 526209190, 145705278066681752856855988], [4, 34, 37024, 50748890433694, 130701223790327158929922808431521266881804]]\n"
     ]
    }
   ],
   "source": [
    "# Vector describing/defining the polynomial function.\n",
    "p = [-2, 1, -2, 1]\n",
    "\n",
    "\n",
    "# Function of x (scalar) and p (vector)\n",
    "def P(x, n):\n",
    "    y = 0\n",
    "    for i in range(len(p)):\n",
    "        y += p[i] * x**i\n",
    "    if n == 0:\n",
    "        return x\n",
    "    elif n == 1:\n",
    "        return y\n",
    "    else:\n",
    "        return P(y, n-1)\n",
    "\n",
    "\n",
    "def P_rec(x, n):\n",
    "    result = [0]*n\n",
    "    for i in range(n):\n",
    "        result[i] = P(x, i)\n",
    "    return result\n",
    "\n",
    "\n",
    "def P_rec_vect(u, n):\n",
    "    v = [0]*len(u)\n",
    "    for i in range(len(u)):\n",
    "        v[i] = P_rec(u[i], n)\n",
    "    return v\n",
    "\n",
    "\n",
    "u = [0, 1, 2, 3, 4]\n",
    "n = 5   # Vector size/factorial \"loops\".\n",
    "print(P_rec_vect(u, n))"
   ]
  },
  {
   "cell_type": "markdown",
   "metadata": {},
   "source": [
    "## 2a\n",
    "This plots a single point. The values can be changed to get different points."
   ]
  },
  {
   "cell_type": "code",
   "execution_count": 24,
   "metadata": {},
   "outputs": [
    {
     "name": "stdout",
     "output_type": "stream",
     "text": [
      "[4, 10]\n"
     ]
    },
    {
     "data": {
      "image/png": "[encoded data removed]",
      "text/plain": [
       "<Figure size 432x288 with 1 Axes>"
      ]
     },
     "metadata": {
      "needs_background": "light"
     },
     "output_type": "display_data"
    }
   ],
   "source": [
    "import matplotlib.pyplot as plt\n",
    "import numpy as np\n",
    "\n",
    "# Input matrix and vector\n",
    "#A = [[1, 0.5], [1, 0.5]]\n",
    "#u = [5, 6]\n",
    "A = [[1, 2], [3, 4]]\n",
    "u = [2, 1]\n",
    "\n",
    "\n",
    "# Hard coded dot product (and transpose) function for (2x2) x (2x1) = (2x1).\n",
    "def dot_product(A, u):\n",
    "    v = [0]*len(u)\n",
    "    \n",
    "    v[0] = A[0][0] * u[0] + A[0][1] * u[1]\n",
    "    v[1] = A[1][0] * u[0] + A[1][1] * u[1]\n",
    "    \n",
    "    return v\n",
    " \n",
    "\n",
    "# Call dot_product and print out result.\n",
    "point = dot_product(A, u)\n",
    "print(point)\n",
    "\n",
    "# Plotting\n",
    "fig = plt.figure()\n",
    "ax = fig.add_subplot(111)\n",
    "ax.grid(True)\n",
    "plt.plot(point[0], point[1], 'ro')\n",
    "fig.show()"
   ]
  },
  {
   "cell_type": "markdown",
   "metadata": {},
   "source": [
    "## 2b\n",
    "This plots the values of the trigonometric matrix function $T$, with the variable input $\\theta, [0, 2 \\pi]$."
   ]
  },
  {
   "cell_type": "code",
   "execution_count": 25,
   "metadata": {},
   "outputs": [
    {
     "data": {
      "image/png": "[encoded data removed]",
      "text/plain": [
       "<Figure size 432x288 with 1 Axes>"
      ]
     },
     "metadata": {
      "needs_background": "light"
     },
     "output_type": "display_data"
    }
   ],
   "source": [
    "import matplotlib.pyplot as plt\n",
    "import numpy as np\n",
    "import math\n",
    "\n",
    "u = [1,2]\n",
    "\n",
    "\n",
    "# Hard coded dot product (and transpose) function for (2x2) x (2x1) = (2x1).\n",
    "def dot_product(A, u):\n",
    "    v = [0]*len(u)\n",
    "    \n",
    "    v[0] = A[0][0] * u[0] + A[0][1] * u[1]\n",
    "    v[1] = A[1][0] * u[0] + A[1][1] * u[1]\n",
    "    \n",
    "    return v\n",
    "\n",
    "\n",
    "# Returns a matrix based on the given trigonometric variables.\n",
    "def matrix(theta):\n",
    "    T = [[math.cos(theta),   math.sin(theta)],\n",
    "            [-math.sin(theta),  math.cos(theta)]]\n",
    "    return T\n",
    "\n",
    "\n",
    "# Set steps, make x (linspace) and empty y-list\n",
    "steps = 100\n",
    "x = np.linspace(0, 2*math.pi, steps)\n",
    "y = [None]*steps\n",
    "\n",
    "\n",
    "# Loop the function through all theta, dot_product(matrix(theta), u).\n",
    "for idx in range(steps):\n",
    "    theta = x[idx]\n",
    "    T = matrix(theta)\n",
    "    y[idx] = dot_product(T, u)\n",
    "\n",
    "\n",
    "# Plotting\n",
    "fig = plt.figure()\n",
    "ax = fig.add_subplot(111)\n",
    "ax.grid(True)\n",
    "plt.plot(x, y)\n",
    "fig.show()"
   ]
  },
  {
   "cell_type": "markdown",
   "metadata": {},
   "source": [
    "## 2c"
   ]
  },
  {
   "cell_type": "markdown",
   "metadata": {},
   "source": [
    "## 2d"
   ]
  },
  {
   "cell_type": "markdown",
   "metadata": {},
   "source": [
    "## 2e"
   ]
  },
  {
   "cell_type": "markdown",
   "metadata": {},
   "source": [
    "## 3a (+b+c?)\n",
    "\n",
    "\n",
    "$L^n(x)$ becomes smaller, as $n \\to \\infty$ (or $4$), when $\\lambda < 1.5$.\n",
    "\n",
    "With $\\lambda > 1.5$, $L$ first grows bigger, then smaller, as $n \\to \\infty$\n",
    "$$ \\lim_{n \\to \\infty} L^n(x) = \\infty $$"
   ]
  },
  {
   "cell_type": "code",
   "execution_count": 26,
   "metadata": {},
   "outputs": [
    {
     "name": "stdout",
     "output_type": "stream",
     "text": [
      "0.5\n",
      "0.125\n",
      "0.0546875\n",
      "0.025848388671875\n",
      "0.012590124737471342\n"
     ]
    }
   ],
   "source": [
    "# Initial values\n",
    "n = 5           # List size\n",
    "lst = [0]*n     # Make empty list\n",
    "x = 0.5\n",
    "lmda = 0.5\n",
    "\n",
    "\n",
    "# Function L\n",
    "def L(x, lmda):\n",
    "    return lmda * x*(1-x)\n",
    "\n",
    "\n",
    "# Use L \"recursively\"\n",
    "def L_rec(x, lmda, rec_level):\n",
    "    for i in range(rec_level):\n",
    "        x = L(x, lmda)\n",
    "    return x\n",
    "\n",
    "\n",
    "# Make list\n",
    "for i in range(n):\n",
    "    lst[i] = L_rec(x, lmda, i)\n",
    "\n",
    "\n",
    "# Print list\n",
    "for i in range(n):\n",
    "    print(lst[i])\n",
    "\n",
    "\n",
    "# Virker litt som at med lambda < 1.5\n",
    "#   blir L^(n)(x) bare mindre når\n",
    "#   n -> infinity (eller 4),\n",
    "#   mens med lambda > 1.5 blir L større først,\n",
    "#   så mindre når n -> infinity (eller 4)."
   ]
  },
  {
   "cell_type": "markdown",
   "metadata": {},
   "source": [
    "## 3b"
   ]
  },
  {
   "cell_type": "markdown",
   "metadata": {},
   "source": [
    "## 3c"
   ]
  }
 ],
 "metadata": {
  "kernelspec": {
   "display_name": "Python 3",
   "language": "python",
   "name": "python3"
  },
  "language_info": {
   "codemirror_mode": {
    "name": "ipython",
    "version": 3
   },
   "file_extension": ".py",
   "mimetype": "text/x-python",
   "name": "python",
   "nbconvert_exporter": "python",
   "pygments_lexer": "ipython3",
   "version": "3.6.8"
  }
 },
 "nbformat": 4,
 "nbformat_minor": 2
}
