{
 "cells": [
  {
   "cell_type": "markdown",
   "metadata": {},
   "source": [
    "# Assignment 4\n",
    "Realfagslektormaster, programing course\n",
    "\n",
    "Author: Paul Knutson"
   ]
  },
  {
   "cell_type": "markdown",
   "metadata": {},
   "source": [
    "## 1"
   ]
  },
  {
   "cell_type": "markdown",
   "metadata": {},
   "source": [
    "### $(i)$"
   ]
  },
  {
   "cell_type": "code",
   "execution_count": 20,
   "metadata": {},
   "outputs": [
    {
     "data": {
      "image/png": "[encoded data removed]",
      "text/plain": [
       "<Figure size 432x288 with 1 Axes>"
      ]
     },
     "metadata": {
      "needs_background": "light"
     },
     "output_type": "display_data"
    }
   ],
   "source": [
    "import numpy as np\n",
    "import matplotlib.pyplot as plt\n",
    "import math\n",
    "\n",
    "\n",
    "def zeta(m, s):\n",
    "    \"\"\"Zeta function for a singluar m and s.\"\"\"\n",
    "    result = 0\n",
    "    for n in range(int(m)):\n",
    "        result += 1/np.power(float(n+1), s)\n",
    "    \n",
    "    return result\n",
    "\n",
    "\n",
    "def zeta_function_m(s=4):\n",
    "    \"\"\"Iterative Zeta function for a range of m's.\"\"\"\n",
    "    start = 2\n",
    "    stop = 40\n",
    "    \n",
    "    x = np.linspace(start, stop, stop - start + 1)\n",
    "    y = np.zeros(len(x))\n",
    "    for i in range(len(x)):\n",
    "        y[i] = zeta(x[i], s)\n",
    "    \n",
    "    return x, y\n",
    "\n",
    "\n",
    "def zeta_function_s(m):\n",
    "    \"\"\"Iterative Zeta function for a range of s's.\"\"\"\n",
    "    start = -5\n",
    "    stop = 5\n",
    "    \n",
    "    x = np.linspace(start, stop, stop - start + 1)\n",
    "    y = np.zeros(len(x))\n",
    "    for i in range(len(x)):\n",
    "        y[i] = zeta(m, x[i])\n",
    "    \n",
    "    return x, y\n",
    "\n",
    "\n",
    "#fig = plt.figure()\n",
    "x, y = zeta_function_s(2)\n",
    "#print(x)\n",
    "plt.plot(x, y)\n",
    "plt.show()\n",
    "\n",
    "# zeta_function_m(s)\n",
    "#   m controls smoothness of curve.\n",
    "#   s controls bend.\n",
    "#   s = 0 results in a straight line, from about (0,0) to (m,m)\n",
    "#   As s goes towards -inf, the curve will bend to the bottom right.\n",
    "#   As s goes towards +inf, the curve will bend to the top left.\n",
    "\n",
    "# zeta_function_s(m)\n",
    "#   s range (stop - start) controls the smoothness of the curve.\n",
    "#   m < 2 results in a straight horizontal line at 1.\n",
    "#   As m->+inf, the curve will bend to the bottom left.\n",
    "#   This will also happen if the s range becomes larger."
   ]
  },
  {
   "cell_type": "markdown",
   "metadata": {},
   "source": [
    "### $(ii)$"
   ]
  },
  {
   "cell_type": "code",
   "execution_count": 6,
   "metadata": {},
   "outputs": [
    {
     "name": "stdout",
     "output_type": "stream",
     "text": [
      "\n",
      "\n",
      "Estimation, zeta(2) = pi^2/6\n",
      "1.6439345666815615\n",
      "1.6449340668482264\n",
      "Absolutt error: 0.0009995001666649461\n"
     ]
    }
   ],
   "source": [
    "print(\"\\n\\nEstimation, zeta(2) = pi^2/6\")\n",
    "estimate = zeta(1000, 2)\n",
    "print(estimate)\n",
    "\n",
    "actual_value = math.pi**2/6\n",
    "print(actual_value)\n",
    "\n",
    "print(\"Absolutt error: \" + str(abs(estimate - actual_value)))"
   ]
  },
  {
   "cell_type": "markdown",
   "metadata": {},
   "source": [
    "### $(iii)$"
   ]
  },
  {
   "cell_type": "code",
   "execution_count": 7,
   "metadata": {},
   "outputs": [
    {
     "name": "stdout",
     "output_type": "stream",
     "text": [
      "\n",
      "\n",
      "Estimation, zeta(4) = pi^4/90\n",
      "1.082323233378306\n",
      "1.082323233711138\n",
      "Absolutt error: 3.328319841955363e-10\n"
     ]
    }
   ],
   "source": [
    "print(\"\\n\\nEstimation, zeta(4) = pi^4/90\")\n",
    "estimate = zeta(1000, 4)\n",
    "print(estimate)\n",
    "\n",
    "actual_value = math.pi**4/90\n",
    "print(actual_value)\n",
    "\n",
    "print(\"Absolutt error: \" + str(abs(estimate - actual_value)))"
   ]
  },
  {
   "cell_type": "code",
   "execution_count": 8,
   "metadata": {},
   "outputs": [
    {
     "name": "stdout",
     "output_type": "stream",
     "text": [
      "Once deleted, variables cannot be recovered. Proceed (y/[n])? y\n"
     ]
    }
   ],
   "source": [
    "%reset"
   ]
  },
  {
   "cell_type": "markdown",
   "metadata": {},
   "source": [
    "## 2"
   ]
  },
  {
   "cell_type": "markdown",
   "metadata": {},
   "source": [
    "### $(i)$"
   ]
  },
  {
   "cell_type": "code",
   "execution_count": 10,
   "metadata": {},
   "outputs": [
    {
     "name": "stdout",
     "output_type": "stream",
     "text": [
      "x:\t 1.4789428575445974 (W|A)\n",
      "x_est:\t 1.4786574667270478\n"
     ]
    }
   ],
   "source": [
    "import numpy as np\n",
    "\n",
    "def df(t):\n",
    "    \"\"\" g(t) = t\"\"\"\n",
    "    return 1\n",
    "\n",
    "\n",
    "def dg(t):\n",
    "    \"\"\"f(t) = t^2\"\"\"\n",
    "    return 2*t\n",
    "\n",
    "\n",
    "def f(t):\n",
    "    return np.sqrt(df(t)**2 + dg(t)**2)\n",
    "\n",
    "\n",
    "def arc_length(a, b):\n",
    "    d = 10000\n",
    "    dt = 1/d\n",
    "    integral = 0\n",
    "    for i in range(d-1):\n",
    "        t = (i*dt)*(b-a) + a\n",
    "        integral += f(t)*dt*(b-a)\n",
    "    \n",
    "    return integral\n",
    "\n",
    "\n",
    "print(\"x:\\t\", \"1.4789428575445974 (W|A)\")\n",
    "print(\"x_est:\\t\", arc_length(0, 1))"
   ]
  },
  {
   "cell_type": "markdown",
   "metadata": {},
   "source": [
    "### $(ii)$"
   ]
  },
  {
   "cell_type": "code",
   "execution_count": 11,
   "metadata": {},
   "outputs": [
    {
     "data": {
      "image/png": "[encoded data removed]",
      "text/plain": [
       "<Figure size 432x288 with 1 Axes>"
      ]
     },
     "metadata": {
      "needs_background": "light"
     },
     "output_type": "display_data"
    }
   ],
   "source": [
    "import matplotlib.pyplot as plt\n",
    "import numpy as np\n",
    "\n",
    "\n",
    "def f(t, a):\n",
    "    return a * np.cos(t)\n",
    "\n",
    "\n",
    "def g(t, b):\n",
    "    return b * np.sin(t)\n",
    "\n",
    "\n",
    "def c(t, a, b):\n",
    "    x = f(t, a)\n",
    "    y = g(t, b)\n",
    "    return x, y\n",
    "\n",
    "\n",
    "t = np.linspace(0, 2*np.pi, 100)\n",
    "\n",
    "a = -2\n",
    "b = -3\n",
    "\n",
    "x, y = c(t, a, b)\n",
    "\n",
    "plt.plot(x, y)\n",
    "plt.show()\n",
    "\n",
    "# a describes the x-scale. b describes the y-scale.\n",
    "# The ellipse will have an r in the y-axis of 2*b, from -b to b.\n",
    "# The ellipse will have an r in the x-axis of 2*a, from -a to a.\n",
    "# Whether a and/or b are positive or negative does not affect the result."
   ]
  },
  {
   "cell_type": "markdown",
   "metadata": {},
   "source": [
    "### $(iii)$ (pt. 1)"
   ]
  },
  {
   "cell_type": "code",
   "execution_count": 12,
   "metadata": {},
   "outputs": [
    {
     "data": {
      "image/png": "[encoded data removed]",
      "text/plain": [
       "<Figure size 432x288 with 1 Axes>"
      ]
     },
     "metadata": {
      "needs_background": "light"
     },
     "output_type": "display_data"
    }
   ],
   "source": [
    "import matplotlib.pyplot as plt\n",
    "import numpy as np\n",
    "\n",
    "\n",
    "def f(t):\n",
    "    return t\n",
    "\n",
    "\n",
    "def g(t):\n",
    "    return t**2\n",
    "\n",
    "\n",
    "def l():\n",
    "    # Integral[a, b]{sqrt(f'(t)^2 + g'(t)^2)}\n",
    "    pass\n",
    "\n",
    "\n",
    "\n",
    "## For plotting\n",
    "def c(t):\n",
    "    x = f(t)\n",
    "    y = g(t)\n",
    "    return x, y\n",
    "\n",
    "\n",
    "t = np.linspace(0, 1, 100)\n",
    "\n",
    "x, y = c(t)\n",
    "\n",
    "plt.plot(x, y)\n",
    "plt.show()"
   ]
  },
  {
   "cell_type": "markdown",
   "metadata": {},
   "source": [
    "### Arc length using numerical integration"
   ]
  },
  {
   "cell_type": "code",
   "execution_count": 14,
   "metadata": {},
   "outputs": [
    {
     "name": "stdout",
     "output_type": "stream",
     "text": [
      "48.44381189906502\n",
      "48.44224110273838 (W|A)\n"
     ]
    }
   ],
   "source": [
    "import numpy as np\n",
    "\n",
    "def e_sq(a, b):\n",
    "    return 1 - b**2/a**2\n",
    "\n",
    "\n",
    "def f(a, b, theta):\n",
    "    return np.sqrt(1 - e_sq(a, b) * np.sin(theta)**2)\n",
    "\n",
    "\n",
    "def arc_length(a, b):\n",
    "    d = 10000\n",
    "    integral = 0\n",
    "    for i in range(d):\n",
    "        theta = i/d * np.pi/2\n",
    "        integral += f(a, b, theta)\n",
    "    \n",
    "    return 4*a*integral/d*np.pi/2\n",
    "\n",
    "\n",
    "print(arc_length(10, 5))\n",
    "print(\"48.44224110273838 (W|A)\")"
   ]
  },
  {
   "cell_type": "markdown",
   "metadata": {},
   "source": [
    "### $(iv)$"
   ]
  },
  {
   "cell_type": "markdown",
   "metadata": {},
   "source": [
    "### $(v)$"
   ]
  },
  {
   "cell_type": "markdown",
   "metadata": {},
   "source": [
    "### $(vi)$"
   ]
  },
  {
   "cell_type": "markdown",
   "metadata": {},
   "source": [
    "### $(vii)$"
   ]
  },
  {
   "cell_type": "markdown",
   "metadata": {},
   "source": [
    "### $(viii)$"
   ]
  },
  {
   "cell_type": "markdown",
   "metadata": {},
   "source": [
    "### $(ix)$"
   ]
  },
  {
   "cell_type": "code",
   "execution_count": 19,
   "metadata": {},
   "outputs": [
    {
     "name": "stdout",
     "output_type": "stream",
     "text": [
      "Once deleted, variables cannot be recovered. Proceed (y/[n])? y\n"
     ]
    }
   ],
   "source": [
    "%reset"
   ]
  },
  {
   "cell_type": "markdown",
   "metadata": {},
   "source": [
    "## 3"
   ]
  },
  {
   "cell_type": "markdown",
   "metadata": {},
   "source": [
    "### $(i)$"
   ]
  },
  {
   "cell_type": "markdown",
   "metadata": {},
   "source": [
    "### $(ii)$"
   ]
  },
  {
   "cell_type": "markdown",
   "metadata": {},
   "source": [
    "### $(iii)$"
   ]
  },
  {
   "cell_type": "markdown",
   "metadata": {},
   "source": [
    "### $(iv)$"
   ]
  },
  {
   "cell_type": "markdown",
   "metadata": {},
   "source": [
    "### $(v)$"
   ]
  },
  {
   "cell_type": "markdown",
   "metadata": {},
   "source": [
    "### $(vi)$"
   ]
  },
  {
   "cell_type": "markdown",
   "metadata": {},
   "source": [
    "### $(vii)$"
   ]
  },
  {
   "cell_type": "markdown",
   "metadata": {},
   "source": [
    "### $(viii)$"
   ]
  },
  {
   "cell_type": "markdown",
   "metadata": {},
   "source": [
    "### $(ix)$"
   ]
  },
  {
   "cell_type": "markdown",
   "metadata": {},
   "source": [
    "### $(x)$"
   ]
  }
 ],
 "metadata": {
  "kernelspec": {
   "display_name": "Python 3",
   "language": "python",
   "name": "python3"
  },
  "language_info": {
   "codemirror_mode": {
    "name": "ipython",
    "version": 3
   },
   "file_extension": ".py",
   "mimetype": "text/x-python",
   "name": "python",
   "nbconvert_exporter": "python",
   "pygments_lexer": "ipython3",
   "version": "3.6.8"
  }
 },
 "nbformat": 4,
 "nbformat_minor": 2
}
