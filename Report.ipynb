{
 "cells": [
  {
   "cell_type": "markdown",
   "metadata": {},
   "source": [
    "# Programing\n",
    "Realfagslektormaster\n",
    "\n",
    "Author: Paul Knutson"
   ]
  },
  {
   "cell_type": "code",
   "execution_count": 2,
   "metadata": {},
   "outputs": [
    {
     "name": "stdout",
     "output_type": "stream",
     "text": [
      "Report\n"
     ]
    }
   ],
   "source": [
    "print(\"Report\")"
   ]
  },
  {
   "cell_type": "markdown",
   "metadata": {},
   "source": [
    "## Assignment 1\n",
    "The assignment here is the make an encryption algorithm, based on a Caesar cipher.\n",
    "This implementation uses and LSO function (Left Shift Operation) for encryption, and an RSO (Right Shift Operation, a reversed LSO) for decryption. The shift size can be decided by the user, but the default (which is used below) is 1.\n",
    "LSO turns a into b, b into c, etc. If the shift is greater, a may turn into c, b to d, etc.\n",
    "At the end, the decryption function uses .title() in a simple attempt to make the decrypted text prettier. Had the symbol list included both uppercase and lowercase, this would %not be necessary."
   ]
  },
  {
   "cell_type": "code",
   "execution_count": 10,
   "metadata": {},
   "outputs": [
    {
     "name": "stdout",
     "output_type": "stream",
     "text": [
      "Kryptert:\t ifmmp-xpsme?\n",
      "Dekryptert:\t Hello World!\n"
     ]
    }
   ],
   "source": [
    "# List of all acceptable symbols.\n",
    "symbols = list(\"ABCDEFGHIJKLMNOPQRSTUVWXYZÆØÅ0123456789 -,.!?\".lower())\n",
    "\n",
    "\n",
    "def LSO(msg, shift=1):\n",
    "    \"\"\"Left Shift Operation.\"\"\"\n",
    "\n",
    "    # Make the string a list of lower case chars.\n",
    "    msg = list(msg.lower())\n",
    "\n",
    "    # For each letter in message.\n",
    "    for i in range(len(msg)):\n",
    "\n",
    "        # Get index of msg-letter in symbols.\n",
    "        index = symbols.index(msg[i])\n",
    "        \n",
    "        # If not found, return.\n",
    "        if index == -1:\n",
    "            return\n",
    "        \n",
    "        # LSO swap. Modulate to stay within bounds.\n",
    "        msg[i] = symbols[(index + shift) % len(symbols)]\n",
    "    return \"\".join(msg)\n",
    "\n",
    "\n",
    "def RSO(msg, shift=1):\n",
    "    \"\"\"Right Shift Operation (opposite of LSO).\"\"\"\n",
    "    return LSO(msg, len(symbols) - shift)\n",
    "\n",
    "\n",
    "text = \"Hello World!\"\n",
    "print(\"Kryptert:\\t\", LSO(text))\n",
    "print(\"Dekryptert:\\t\", RSO(LSO(text)).title())"
   ]
  },
  {
   "cell_type": "markdown",
   "metadata": {},
   "source": [
    "## Assignment 2\n",
    "### 1a\n",
    "$P(x) = x^3 - 2x^2 + x - 2$\n",
    "\n",
    "The user can change the x (input value). In this case, $P(3) = 10$."
   ]
  },
  {
   "cell_type": "code",
   "execution_count": 9,
   "metadata": {},
   "outputs": [
    {
     "name": "stdout",
     "output_type": "stream",
     "text": [
      "10\n"
     ]
    }
   ],
   "source": [
    "def P(x):\n",
    "    return x**3 - 2*x**2 + x - 2\n",
    "\n",
    "\n",
    "print(P(3))"
   ]
  },
  {
   "cell_type": "markdown",
   "metadata": {},
   "source": [
    "### 1b\n",
    "Here, $P(p, x)$ is generic polynomial function, described by the coefficient list $p$, giving\n",
    "\n",
    "$P(p, x) = p_0 x^0 + p_1 x^1 + p_2 x^2 + ... + p_n x^n$\n",
    "\n",
    "where $n$ is the size of the coefficient list. In the code, $p$ is reversed (i.e. the index of $p$ is actually going from $n$ to $0$). The example function is the same as described in 1 a."
   ]
  },
  {
   "cell_type": "code",
   "execution_count": 14,
   "metadata": {},
   "outputs": [
    {
     "name": "stdout",
     "output_type": "stream",
     "text": [
      "10\n"
     ]
    }
   ],
   "source": [
    "# Vector describing/defining the polynomial function.\n",
    "p = [-2, 1, -2, 1]\n",
    "\n",
    "# Function of x (scalar) and p (vector)\n",
    "def P(p, x):\n",
    "    y = 0\n",
    "    for i in range(len(p)):\n",
    "        y += p[i] * x**i\n",
    "    return y\n",
    "\n",
    "print(P(p, 3))"
   ]
  },
  {
   "cell_type": "markdown",
   "metadata": {},
   "source": [
    "### 1c\n",
    "Here, $u$ is a list of $x$-values as used in the previous task. The results from $P(x)$, or in this case, $P(u_i)$ is stored and plotted."
   ]
  },
  {
   "cell_type": "code",
   "execution_count": 25,
   "metadata": {},
   "outputs": [
    {
     "data": {
      "image/png": "[encoded data removed]",
      "text/plain": [
       "<Figure size 432x288 with 1 Axes>"
      ]
     },
     "metadata": {
      "needs_background": "light"
     },
     "output_type": "display_data"
    }
   ],
   "source": [
    "# For maths and plotting\n",
    "import matplotlib.pyplot as plt\n",
    "import numpy as np\n",
    "\n",
    "# Vector describing/defining the polynomial function.\n",
    "p = [-2, 1, -2, 1]\n",
    "\n",
    "# Function of x (scalar) and p (vector)\n",
    "def P(p, x):\n",
    "    y = 0\n",
    "    for i in range(len(p)):\n",
    "        y += p[i] * x**i\n",
    "    return y\n",
    "\n",
    "def P_vect(u):\n",
    "    v = [0]*len(u)\n",
    "    for i in range(len(u)):\n",
    "        v[i] = P(p, u[i])\n",
    "    return v\n",
    "\n",
    "u = np.linspace(-10, 10, 101)\n",
    "y_values = P_vect(u)\n",
    "x_values = np.linspace(0, len(y_values) -1, len(y_values))\n",
    "\n",
    "# Plotting\n",
    "#fig = plt.figure()\n",
    "plt.grid(True)\n",
    "plt.plot(x_values, y_values)\n",
    "plt.show()"
   ]
  },
  {
   "cell_type": "markdown",
   "metadata": {},
   "source": [
    "### 1d\n",
    "This one is similar to c, but where $P$ is used recursive instead of using a list $u$. As can be seen below, the values become huge extremely quickly."
   ]
  },
  {
   "cell_type": "code",
   "execution_count": 26,
   "metadata": {},
   "outputs": [
    {
     "name": "stdout",
     "output_type": "stream",
     "text": [
      "[3, 10, 808, 526209190, 145705278066681752856855988]\n"
     ]
    }
   ],
   "source": [
    "# Vector describing/defining the polynomial function.\n",
    "p = [-2, 1, -2, 1]\n",
    "\n",
    "\n",
    "# Function of x (scalar) and p (vector)\n",
    "def P(x, n):\n",
    "    y = 0\n",
    "    for i in range(len(p)):\n",
    "        y += p[i] * x**i\n",
    "    if n == 0:\n",
    "        return x\n",
    "    elif n == 1:\n",
    "        return y\n",
    "    else:\n",
    "        return P(y, n-1)\n",
    "\n",
    "\n",
    "def P_rec(x, n):\n",
    "    result = [0]*n\n",
    "    for i in range(n):\n",
    "        result[i] = P(x, i)\n",
    "    return result\n",
    "\n",
    "\n",
    "a = 3   # Input number\n",
    "n = 5   # Vector size/factorial \"loops\".\n",
    "print(P_rec(a, n))"
   ]
  },
  {
   "cell_type": "markdown",
   "metadata": {},
   "source": [
    "### 1e\n",
    "This is the same as 1d, but with an input vector of size $n$, similar to c. This return an $n \\times n$ matrix of values."
   ]
  },
  {
   "cell_type": "code",
   "execution_count": 27,
   "metadata": {},
   "outputs": [
    {
     "name": "stdout",
     "output_type": "stream",
     "text": [
      "[[0, -2, -20, -8822, -686751492440], [1, -2, -20, -8822, -686751492440], [2, 0, -2, -20, -8822], [3, 10, 808, 526209190, 145705278066681752856855988], [4, 34, 37024, 50748890433694, 130701223790327158929922808431521266881804]]\n"
     ]
    }
   ],
   "source": [
    "# Vector describing/defining the polynomial function.\n",
    "p = [-2, 1, -2, 1]\n",
    "\n",
    "\n",
    "# Function of x (scalar) and p (vector)\n",
    "def P(x, n):\n",
    "    y = 0\n",
    "    for i in range(len(p)):\n",
    "        y += p[i] * x**i\n",
    "    if n == 0:\n",
    "        return x\n",
    "    elif n == 1:\n",
    "        return y\n",
    "    else:\n",
    "        return P(y, n-1)\n",
    "\n",
    "\n",
    "def P_rec(x, n):\n",
    "    result = [0]*n\n",
    "    for i in range(n):\n",
    "        result[i] = P(x, i)\n",
    "    return result\n",
    "\n",
    "\n",
    "def P_rec_vect(u, n):\n",
    "    v = [0]*len(u)\n",
    "    for i in range(len(u)):\n",
    "        v[i] = P_rec(u[i], n)\n",
    "    return v\n",
    "\n",
    "u = [0, 1, 2, 3, 4]\n",
    "n = 5   # Vector size/factorial \"loops\".\n",
    "print(P_rec_vect(u, n))"
   ]
  },
  {
   "cell_type": "code",
   "execution_count": null,
   "metadata": {},
   "outputs": [],
   "source": []
  },
  {
   "cell_type": "markdown",
   "metadata": {},
   "source": [
    "## Assignment 3"
   ]
  },
  {
   "cell_type": "code",
   "execution_count": null,
   "metadata": {},
   "outputs": [],
   "source": []
  },
  {
   "cell_type": "code",
   "execution_count": null,
   "metadata": {},
   "outputs": [],
   "source": []
  },
  {
   "cell_type": "markdown",
   "metadata": {},
   "source": [
    "## Assignment 4"
   ]
  },
  {
   "cell_type": "markdown",
   "metadata": {},
   "source": [
    "## Assignment 5"
   ]
  },
  {
   "cell_type": "code",
   "execution_count": null,
   "metadata": {},
   "outputs": [],
   "source": []
  }
 ],
 "metadata": {
  "kernelspec": {
   "display_name": "Python 3",
   "language": "python",
   "name": "python3"
  },
  "language_info": {
   "codemirror_mode": {
    "name": "ipython",
    "version": 3
   },
   "file_extension": ".py",
   "mimetype": "text/x-python",
   "name": "python",
   "nbconvert_exporter": "python",
   "pygments_lexer": "ipython3",
   "version": "3.6.8"
  }
 },
 "nbformat": 4,
 "nbformat_minor": 2
}
